{
 "cells": [
  {
   "cell_type": "code",
   "execution_count": 1,
   "id": "e6b3c5f7-3738-4aae-8822-b8c4827cb830",
   "metadata": {},
   "outputs": [
    {
     "name": "stdout",
     "output_type": "stream",
     "text": [
      "僅供教學使用，若有需要做進一步動作請與原著作者聯繫取得授權\n",
      "[youtube] Extracting URL: https://www.youtube.com/watch?v=x4d07uwZlm0\n",
      "[youtube] x4d07uwZlm0: Downloading webpage\n",
      "[youtube] x4d07uwZlm0: Downloading tv client config\n",
      "[youtube] x4d07uwZlm0: Downloading tv player API JSON\n",
      "[youtube] x4d07uwZlm0: Downloading ios player API JSON\n",
      "[youtube] x4d07uwZlm0: Downloading m3u8 information\n"
     ]
    },
    {
     "name": "stderr",
     "output_type": "stream",
     "text": [
      "WARNING: ffmpeg not found. The downloaded format may not be the best available. Installing ffmpeg is strongly recommended: https://github.com/yt-dlp/yt-dlp#dependencies\n"
     ]
    },
    {
     "name": "stdout",
     "output_type": "stream",
     "text": [
      "[info] x4d07uwZlm0: Downloading 1 format(s): 18\n",
      "[download] Destination: 【台北小吃推薦】鮮魚湯⧸酥炸魷魚⧸炭烤高粱酒香腸⧸白切雞肉⧸隱藏版炸雞⧸秒殺蟹殼黃⧸蘿蔔絲餅⧸豬腳便當【台灣1001個故事】  @1001taiwanstories [x4d07uwZlm0].mp4\n",
      "[download] 100% of  397.52MiB in 00:01:11 at 5.56MiB/s     \n"
     ]
    }
   ],
   "source": [
    "print('僅供教學使用，若有需要做進一步動作請與原著作者聯繫取得授權')\n",
    "import yt_dlp\n",
    "url=('https://www.youtube.com/watch?v=x4d07uwZlm0')\n",
    "ydl_opts = {}\n",
    "with yt_dlp.YoutubeDL(ydl_opts) as ydl:\n",
    "    ydl.download([url])"
   ]
  }
 ],
 "metadata": {
  "kernelspec": {
   "display_name": "base",
   "language": "python",
   "name": "python3"
  },
  "language_info": {
   "codemirror_mode": {
    "name": "ipython",
    "version": 3
   },
   "file_extension": ".py",
   "mimetype": "text/x-python",
   "name": "python",
   "nbconvert_exporter": "python",
   "pygments_lexer": "ipython3",
   "version": "3.12.7"
  }
 },
 "nbformat": 4,
 "nbformat_minor": 5
}
